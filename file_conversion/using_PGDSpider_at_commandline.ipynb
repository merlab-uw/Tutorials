{
 "cells": [
  {
   "cell_type": "markdown",
   "metadata": {},
   "source": [
    "# Using PGD Spider at the command line"
   ]
  },
  {
   "cell_type": "markdown",
   "metadata": {},
   "source": [
    "This notebook shows you how to use PGD Spider at the command line, which can be very handy for putting into bioinformatic pipelines.\n",
    "\n",
    "Her are the manual instructions for using it at the command line, which I copied from the [manual](http://www.cmpg.unibe.ch/software/PGDSpider/PGDSpider%20manual_vers%202-1-1-5.pdf).\n",
    "\n",
    "The command line version of the PGDSpider program can be executed with the following options\n",
    "(the order does not matter):\n",
    "- ``-? or -h:`` To show a help text with the different options\n",
    "- ``-inputfile <file>`` Specify the input file for the conversion process (mandatory), \n",
    "- ``-inputformat <format>:`` Specify the format of the input file. This option is mandatory if the input format is not defined in the answer (SPID) file.\n",
    " - Possible input formats: PGD, ARLEQUIN, BAM, BAPS, BATWING, BCF, CONVERT, EIGENSOFT, FASTA, FASTQ, FSTAT, GDA, GENELAND, GENEPOP, GENETIX, HGDP, HGDP_CEPH, IMMANC, IM, IMA2, MAF, MEGA, MIGRATE, MSA, NEWHYBRIDS, NEXUS, ONESAMP, PED, PHYLIP, SAM, STRUCTURE, VCF, XMFA\n",
    "- ``-outputfile <file>`` Specify the output file for the conversion process (mandatory)\n",
    "-  ``-outputformat <format>`` Specify the format of the output file. This option is mandatory if the output format is not defined in the answer (SPID) file.\n",
    " - Possible output formats: PGD, ARLEQUIN, BAM, BAMOVA , BAPS, BATWING, BAYENV, BCF, EIGENSOFT, FASTA, FASTQ, FDIST2, FSTAT, GDA, GENELAND, GENEPOP, GENETIX,GESTE_BAYE_SCAN, IMMANC, IM, IMA2, KML, MEGA, MIGRATE, MSA, MSVAR, NEWHYBRIDS, NEXUS, ONESAMP, PED, PHYLIP, SAM, STRUCTURAMA, STRUCTURE, VCF, XMFA\n",
    "- ``-spid <file>`` Specify the SPID file containing the pre-answered conversion questions. The SPID file can be generated with the help of the SPID Editor (see Section 6.2 SPID Editor) integrated in the PGDSpider GUI. Alternatively, a template SPID file is automatically generated if no SPID file is provided. This template SPID file can be used to answer the required conversion questions. Some of the questions do not need to be answered in every situation, as they are questions of special cases (all possible questions are listed)(mandatory)\n"
   ]
  },
  {
   "cell_type": "markdown",
   "metadata": {},
   "source": [
    "### **[1]** Use at the command line"
   ]
  },
  {
   "cell_type": "markdown",
   "metadata": {},
   "source": [
    "First, I navigate to the directory that contains the program. You should also be able to run it from anywhere, so long as you use the complete path when calling the program file."
   ]
  },
  {
   "cell_type": "code",
   "execution_count": 1,
   "metadata": {},
   "outputs": [
    {
     "name": "stdout",
     "output_type": "stream",
     "text": [
      "/mnt/hgfs/SHARED_FOLDER/Software/PGDSpider_2.1.1.0\n"
     ]
    }
   ],
   "source": [
    "cd /mnt/hgfs/SHARED_FOLDER/Software/PGDSpider_2.1.1.0"
   ]
  },
  {
   "cell_type": "markdown",
   "metadata": {},
   "source": [
    "PGD Spider is written in Java and is stored in a Java archive file (jar). So to call it, I use ``java -Xmx1024m -Xms512m -jar PGDSpider2-cli.jar``. The ``-Xmx`` and ``-Xms`` are Java arguments for memory.``-Xmx1024m`` is me specifying the maximum memory to be 1024 MB and ``-Xms512m`` is me specifying the original memory to be 512 MB.\n",
    "\n",
    "Then I specify the input file path and output file path using ``-inputfile`` and ``-outputfile``, and their formats using ``inputformat`` and ``outputformat`` respectively. You can see a complete list of possible formats above. Lastly, I specify the path to my SPID file. Unlike the GUI version, you have to have this file saved."
   ]
  },
  {
   "cell_type": "code",
   "execution_count": 10,
   "metadata": {},
   "outputs": [
    {
     "name": "stdout",
     "output_type": "stream",
     "text": [
      "INFO  14:57:05 - load PGDSpider configuration from: /mnt/hgfs/SHARED_FOLDER/Software/PGDSpider_2.1.1.0/spider.conf.xml\n",
      "Warning: Could not get charToByteConverterClass!\n",
      "initialize convert process...\n",
      "read input file...\n",
      "read input file done.\n",
      "write output file...\n",
      "WARN  14:57:10 - Data are converted to integers (A=100, T=110, G=120, C=130)!\n",
      "write output file done.\n"
     ]
    }
   ],
   "source": [
    "!java -Xmx1024m -Xms512m -jar PGDSpider2-cli.jar \\\n",
    "-inputfile really_fun_genotypes.vcf \\\n",
    "-outputfile really_fun_genotypes.txt \\\n",
    "-inputformat VCF -outputformat GENEPOP \\\n",
    "-spid VCF_to_GENEPOP.spid"
   ]
  },
  {
   "cell_type": "code",
   "execution_count": 8,
   "metadata": {},
   "outputs": [
    {
     "name": "stdout",
     "output_type": "stream",
     "text": [
      "really_fun_genotypes.txt  really_fun_genotypes.vcf\n"
     ]
    }
   ],
   "source": [
    "!ls really_fun*"
   ]
  },
  {
   "cell_type": "markdown",
   "metadata": {},
   "source": [
    "Ta-da!"
   ]
  }
 ],
 "metadata": {
  "kernelspec": {
   "display_name": "Python 3",
   "language": "python",
   "name": "python3"
  },
  "language_info": {
   "codemirror_mode": {
    "name": "ipython",
    "version": 3
   },
   "file_extension": ".py",
   "mimetype": "text/x-python",
   "name": "python",
   "nbconvert_exporter": "python",
   "pygments_lexer": "ipython3",
   "version": "3.7.3"
  }
 },
 "nbformat": 4,
 "nbformat_minor": 4
}
